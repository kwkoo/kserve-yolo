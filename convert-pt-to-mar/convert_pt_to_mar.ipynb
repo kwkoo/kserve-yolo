{
  "cells": [
    {
      "cell_type": "markdown",
      "metadata": {
        "id": "V-tY6VuCJ7mM"
      },
      "source": [
        "Download model"
      ]
    },
    {
      "cell_type": "code",
      "execution_count": null,
      "metadata": {
        "colab": {
          "base_uri": "https://localhost:8080/"
        },
        "id": "6OYf5mH4KEFy",
        "outputId": "8c9dbe1d-c85c-4130-c73a-68d16367981e"
      },
      "outputs": [],
      "source": [
        "!curl -LO https://github.com/ultralytics/assets/releases/download/v0.0.0/yolov8x.pt"
      ]
    },
    {
      "cell_type": "markdown",
      "metadata": {
        "id": "NtNd8LNgK1qj"
      },
      "source": [
        "Get the torch-model-archiver"
      ]
    },
    {
      "cell_type": "code",
      "execution_count": null,
      "metadata": {
        "colab": {
          "base_uri": "https://localhost:8080/"
        },
        "id": "7p4oEuI4K4kd",
        "outputId": "4bc00866-7319-4666-cbfd-121f3204b92e"
      },
      "outputs": [],
      "source": [
        "!pip3 install torch-model-archiver"
      ]
    },
    {
      "cell_type": "markdown",
      "metadata": {
        "id": "mjev_z6JLLay"
      },
      "source": [
        "Create mar"
      ]
    },
    {
      "cell_type": "code",
      "execution_count": null,
      "metadata": {
        "id": "ax3h7zPhLMzp"
      },
      "outputs": [],
      "source": [
        "!torch-model-archiver --model-name yolov8x --version 1.0 --serialized-file yolov8x.pt --handler custom_handler.py -r requirements.txt"
      ]
    }
  ],
  "metadata": {
    "colab": {
      "provenance": []
    },
    "kernelspec": {
      "display_name": "Python 3",
      "name": "python3"
    },
    "language_info": {
      "name": "python"
    }
  },
  "nbformat": 4,
  "nbformat_minor": 0
}
